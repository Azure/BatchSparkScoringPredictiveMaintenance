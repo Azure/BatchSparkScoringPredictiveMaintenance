{
 "cells": [
  {
   "cell_type": "markdown",
   "metadata": {},
   "source": [
    "# Step 3B: Model Scoring evaluation\n",
    "\n",
    "Using the results data set constructed in the `3b_model_scoring` Jupyter notebook, this notebook loads the data scores the observations. \n",
    "\n",
    "**Note:** This notebook will take about 1 minutes to execute all cells, depending on the compute configuration you have setup."
   ]
  },
  {
   "cell_type": "code",
   "execution_count": 2,
   "metadata": {},
   "outputs": [
    {
     "data": {
      "text/html": [
       "<style scoped>\n",
       "  .ansiout {\n",
       "    display: block;\n",
       "    unicode-bidi: embed;\n",
       "    white-space: pre-wrap;\n",
       "    word-wrap: break-word;\n",
       "    word-break: break-all;\n",
       "    font-family: \"Source Code Pro\", \"Menlo\", monospace;;\n",
       "    font-size: 13px;\n",
       "    color: #555;\n",
       "    margin-left: 4px;\n",
       "    line-height: 19px;\n",
       "  }\n",
       "</style>\n",
       "<div class=\"ansiout\"></div>"
      ]
     },
     "metadata": {},
     "output_type": "display_data"
    }
   ],
   "source": [
    "# import the libraries\n",
    "\n",
    "# For some data handling\n",
    "import numpy as np\n",
    "from pyspark.ml import PipelineModel\n",
    "# for creating pipelines and model\n",
    "from pyspark.ml.feature import StringIndexer, VectorAssembler, VectorIndexer\n",
    "\n",
    "# The scoring uses the same feature engineering script used to train the model\n",
    "results_table = 'results_output'"
   ]
  },
  {
   "cell_type": "code",
   "execution_count": 3,
   "metadata": {},
   "outputs": [
    {
     "data": {
      "text/html": [
       "<style scoped>\n",
       "  .ansiout {\n",
       "    display: block;\n",
       "    unicode-bidi: embed;\n",
       "    white-space: pre-wrap;\n",
       "    word-wrap: break-word;\n",
       "    word-break: break-all;\n",
       "    font-family: \"Source Code Pro\", \"Menlo\", monospace;;\n",
       "    font-size: 13px;\n",
       "    color: #555;\n",
       "    margin-left: 4px;\n",
       "    line-height: 19px;\n",
       "  }\n",
       "</style>\n",
       "<div class=\"ansiout\"></div>"
      ]
     },
     "metadata": {},
     "output_type": "display_data"
    }
   ],
   "source": [
    "dbutils.widgets.removeAll()\n",
    "dbutils.widgets.text(\"results_data\", results_table)"
   ]
  },
  {
   "cell_type": "code",
   "execution_count": 4,
   "metadata": {},
   "outputs": [
    {
     "data": {
      "text/html": [
       "<style scoped>\n",
       "  .ansiout {\n",
       "    display: block;\n",
       "    unicode-bidi: embed;\n",
       "    white-space: pre-wrap;\n",
       "    word-wrap: break-word;\n",
       "    word-break: break-all;\n",
       "    font-family: \"Source Code Pro\", \"Menlo\", monospace;;\n",
       "    font-size: 13px;\n",
       "    color: #555;\n",
       "    margin-left: 4px;\n",
       "    line-height: 19px;\n",
       "  }\n",
       "</style>\n",
       "<div class=\"ansiout\"><span class=\"ansired\">Out[</span><span class=\"ansired\">10</span><span class=\"ansired\">]: </span>\n",
       "  indexedLabel_prediction    0.0  1.0  2.0  3.0  4.0\n",
       "0                     0.0  61914   34   15   42    5\n",
       "1                     1.0   1094  394    1    1    1\n",
       "2                     2.0    735    2  257    2    0\n",
       "3                     3.0    582    0    0  293    0\n",
       "4                     4.0    485    2    1    3  171\n",
       "</div>"
      ]
     },
     "metadata": {},
     "output_type": "display_data"
    }
   ],
   "source": [
    "# make predictions. The Pipeline does all the same operations on the test data\n",
    "sqlContext.refreshTable(dbutils.widgets.get(\"results_data\")) \n",
    "predictions =  spark.table(dbutils.widgets.get(\"results_data\"))\n",
    "\n",
    "# Create the confusion matrix for the multiclass prediction results\n",
    "# This result assumes a decision boundary of p = 0.5\n",
    "conf_table = predictions.stat.crosstab('indexedLabel', 'prediction')\n",
    "confuse = conf_table.toPandas()\n",
    "confuse.head()"
   ]
  },
  {
   "cell_type": "markdown",
   "metadata": {},
   "source": [
    "The confusion matrix lists each true component failure in rows and the predicted value in columns. Labels numbered 0.0 corresponds to no component failures. Labels numbered 1.0 through 4.0 correspond to failures in one of the four components in the machine. As an example, the third number in the top row indicates how many days we predicted component 2 would fail, when no components actually did fail. The second number in the second row, indicates how many days we correctly predicted a component 1 failure within the next 7 days.\n",
    "\n",
    "We read the confusion matrix numbers along the diagonal as correctly classifying the component failures. Numbers above the diagonal indicate the model incorrectly predicting a failure when non occured, and those below indicate incorrectly predicting a non-failure for the row indicated component failure.\n",
    "\n",
    "When evaluating classification models, it is convenient to reduce the results in the confusion matrix into a single performance statistic. However, depending on the problem space, it is impossible to always use the same statistic in this evaluation. Below, we calculate four such statistics.\n",
    "\n",
    "- **Accuracy**: reports how often we correctly predicted the labeled data. Unfortunatly, when there is a class imbalance (a large number of one of the labels relative to others), this measure is biased towards the largest class. In this case non-failure days.\n",
    "\n",
    "Because of the class imbalance inherint in predictive maintenance problems, it is better to look at the remaining statistics instead. Here positive predictions indicate a failure.\n",
    "\n",
    "- **Precision**: Precision is a measure of how well the model classifies the truely positive samples. Precision depends on falsely classifying negative days as positive.\n",
    "\n",
    "- **Recall**: Recall is a measure of how well the model can find the positive samples. Recall depends on falsely classifying positive days as negative.\n",
    "\n",
    "- **F1**: F1 considers both the precision and the recall. F1 score is the harmonic average of precision and recall. An F1 score reaches its best value at 1 (perfect precision and recall) and worst at 0.\n",
    "\n",
    "These metrics make the most sense for binary classifiers, though they are still useful for comparision in our multiclass setting. Below we calculate these evaluation statistics for the selected classifier."
   ]
  },
  {
   "cell_type": "code",
   "execution_count": 6,
   "metadata": {},
   "outputs": [
    {
     "data": {
      "text/html": [
       "<style scoped>\n",
       "  .ansiout {\n",
       "    display: block;\n",
       "    unicode-bidi: embed;\n",
       "    white-space: pre-wrap;\n",
       "    word-wrap: break-word;\n",
       "    word-break: break-all;\n",
       "    font-family: \"Source Code Pro\", \"Menlo\", monospace;;\n",
       "    font-size: 13px;\n",
       "    color: #555;\n",
       "    margin-left: 4px;\n",
       "    line-height: 19px;\n",
       "  }\n",
       "</style>\n",
       "<div class=\"ansiout\">Accuracy = 0.954493\n",
       "Precision = 0.910948\n",
       "Recall = 0.277986\n",
       "F1 = 0.425979\n",
       "\n",
       "</div>"
      ]
     },
     "metadata": {},
     "output_type": "display_data"
    }
   ],
   "source": [
    "# select (prediction, true label) and compute test error\n",
    "# select (prediction, true label) and compute test error\n",
    "# True positives - diagonal failure terms \n",
    "tp = confuse['1.0'][1]+confuse['2.0'][2]+confuse['3.0'][3]+confuse['4.0'][4]\n",
    "\n",
    "# False positves - All failure terms - True positives\n",
    "fp = np.sum(np.sum(confuse[['1.0', '2.0','3.0','4.0']])) - tp\n",
    "\n",
    "# True negatives \n",
    "tn = confuse['0.0'][0]\n",
    "\n",
    "# False negatives total of non-failure column - TN\n",
    "fn = np.sum(np.sum(confuse[['0.0']])) - tn\n",
    "\n",
    "# Accuracy is diagonal/total \n",
    "acc_n = tn + tp\n",
    "acc_d = np.sum(np.sum(confuse[['0.0','1.0', '2.0','3.0','4.0']]))\n",
    "acc = acc_n/acc_d\n",
    "\n",
    "# Calculate precision and recall.\n",
    "prec = tp/(tp+fp)\n",
    "rec = tp/(tp+fn)\n",
    "\n",
    "# Print the evaluation metrics to the notebook\n",
    "print(\"Accuracy = %g\" % acc)\n",
    "print(\"Precision = %g\" % prec)\n",
    "print(\"Recall = %g\" % rec )\n",
    "print(\"F1 = %g\" % (2.0 * prec * rec/(prec + rec)))\n",
    "print(\"\")"
   ]
  },
  {
   "cell_type": "markdown",
   "metadata": {},
   "source": [
    "Remember that this is a simulated data set. We would expect a model built on real world data to behave very differently. The accuracy may still be close to one, but the precision and recall numbers would be much lower."
   ]
  },
  {
   "cell_type": "code",
   "execution_count": 8,
   "metadata": {},
   "outputs": [
    {
     "data": {
      "text/html": [
       "<style scoped>\n",
       "  .ansiout {\n",
       "    display: block;\n",
       "    unicode-bidi: embed;\n",
       "    white-space: pre-wrap;\n",
       "    word-wrap: break-word;\n",
       "    word-break: break-all;\n",
       "    font-family: \"Source Code Pro\", \"Menlo\", monospace;;\n",
       "    font-size: 13px;\n",
       "    color: #555;\n",
       "    margin-left: 4px;\n",
       "    line-height: 19px;\n",
       "  }\n",
       "</style>\n",
       "<div class=\"ansiout\"><span class=\"ansired\">Out[</span><span class=\"ansired\">12</span><span class=\"ansired\">]: </span>\n",
       "    machineID        dt_truncated  label_e  \\\n",
       "0          45 2016-01-01 12:00:00      0.0   \n",
       "1          45 2016-01-01 00:00:00      0.0   \n",
       "2          45 2015-12-31 12:00:00      0.0   \n",
       "3          45 2015-12-31 00:00:00      0.0   \n",
       "4          45 2015-12-30 12:00:00      0.0   \n",
       "5          45 2015-12-30 00:00:00      0.0   \n",
       "6          45 2015-12-29 12:00:00      0.0   \n",
       "7          45 2015-12-29 00:00:00      0.0   \n",
       "8          45 2015-12-28 12:00:00      0.0   \n",
       "9          45 2015-12-28 00:00:00      0.0   \n",
       "10         45 2015-12-27 12:00:00      0.0   \n",
       "11         45 2015-12-27 00:00:00      0.0   \n",
       "12         45 2015-12-26 12:00:00      0.0   \n",
       "13         45 2015-12-26 00:00:00      0.0   \n",
       "14         45 2015-12-25 12:00:00      0.0   \n",
       "15         45 2015-12-25 00:00:00      0.0   \n",
       "16         45 2015-12-24 12:00:00      0.0   \n",
       "17         45 2015-12-24 00:00:00      0.0   \n",
       "18         45 2015-12-23 12:00:00      0.0   \n",
       "19         45 2015-12-23 00:00:00      0.0   \n",
       "\n",
       "                                             features  indexedLabel  \\\n",
       "0   (180.192497527, 482.320763677, 123.340058678, ...           0.0   \n",
       "1   [185.441169349, 470.689865796, 115.674212621, ...           0.0   \n",
       "2   [184.01031328, 444.755575817, 103.049769247, 4...           0.0   \n",
       "3   [174.139126307, 461.528239244, 99.4343354818, ...           0.0   \n",
       "4   [169.351114918, 444.253012934, 96.7993394654, ...           0.0   \n",
       "5   [170.275399706, 463.208150561, 100.510935031, ...           0.0   \n",
       "6   [175.87402359, 443.653284824, 102.74427056, 41...           0.0   \n",
       "7   [170.26204021, 456.053290902, 99.2346402263, 3...           0.0   \n",
       "8   [169.69033341, 450.097554637, 98.3041556692, 4...           0.0   \n",
       "9   [169.857394657, 450.76328442, 100.601895961, 3...           0.0   \n",
       "10  [171.283378445, 463.236632798, 100.953781999, ...           0.0   \n",
       "11  [166.790548049, 456.412326239, 101.412157477, ...           0.0   \n",
       "12  [171.41636184, 448.722025312, 102.6334959, 41....           0.0   \n",
       "13  [173.458704761, 439.53941217, 100.886214922, 3...           0.0   \n",
       "14  [170.397340734, 423.636355064, 98.3771369872, ...           0.0   \n",
       "15  [173.591162765, 457.849396598, 99.9297326911, ...           0.0   \n",
       "16  [170.345907413, 443.917666998, 100.225179762, ...           0.0   \n",
       "17  [170.220003322, 449.074548101, 100.933044339, ...           0.0   \n",
       "18  [176.348007602, 462.315166576, 101.185218034, ...           0.0   \n",
       "19  [172.05879022, 461.15781296, 99.5618742677, 39...           0.0   \n",
       "\n",
       "                                      indexedFeatures  \\\n",
       "0   (180.192497527, 482.320763677, 123.340058678, ...   \n",
       "1   [185.441169349, 470.689865796, 115.674212621, ...   \n",
       "2   [184.01031328, 444.755575817, 103.049769247, 4...   \n",
       "3   [174.139126307, 461.528239244, 99.4343354818, ...   \n",
       "4   [169.351114918, 444.253012934, 96.7993394654, ...   \n",
       "5   [170.275399706, 463.208150561, 100.510935031, ...   \n",
       "6   [175.87402359, 443.653284824, 102.74427056, 41...   \n",
       "7   [170.26204021, 456.053290902, 99.2346402263, 3...   \n",
       "8   [169.69033341, 450.097554637, 98.3041556692, 4...   \n",
       "9   [169.857394657, 450.76328442, 100.601895961, 3...   \n",
       "10  [171.283378445, 463.236632798, 100.953781999, ...   \n",
       "11  [166.790548049, 456.412326239, 101.412157477, ...   \n",
       "12  [171.41636184, 448.722025312, 102.6334959, 41....   \n",
       "13  [173.458704761, 439.53941217, 100.886214922, 3...   \n",
       "14  [170.397340734, 423.636355064, 98.3771369872, ...   \n",
       "15  [173.591162765, 457.849396598, 99.9297326911, ...   \n",
       "16  [170.345907413, 443.917666998, 100.225179762, ...   \n",
       "17  [170.220003322, 449.074548101, 100.933044339, ...   \n",
       "18  [176.348007602, 462.315166576, 101.185218034, ...   \n",
       "19  [172.05879022, 461.15781296, 99.5618742677, 39...   \n",
       "\n",
       "                                        rawPrediction  \\\n",
       "0   [118.468664772, 6.44705444895, 51.6739844397, ...   \n",
       "1   [114.150406499, 0.57876601709, 38.2768926751, ...   \n",
       "2   [164.331958602, 1.92244196413, 31.6043665876, ...   \n",
       "3   [193.149879182, 2.07013403638, 1.54777164981, ...   \n",
       "4   [193.34560125, 1.99188040569, 1.53704873283, 2...   \n",
       "5   [193.258567576, 2.04464908749, 1.54660480101, ...   \n",
       "6   [193.011134915, 2.10836157478, 1.7682493109, 2...   \n",
       "7   [193.2681707, 1.9961731337, 1.52235725061, 2.4...   \n",
       "8   [193.355092548, 2.02233668992, 1.50700298054, ...   \n",
       "9   [193.16458824, 2.06308580599, 1.53760031726, 2...   \n",
       "10  [193.293359058, 2.04948175823, 1.50665235435, ...   \n",
       "11  [193.378110574, 1.99992939314, 1.4992679544, 2...   \n",
       "12  [193.320518503, 2.04665135767, 1.50118880604, ...   \n",
       "13  [193.040955774, 2.21847772525, 1.57686803635, ...   \n",
       "14  [167.475217592, 27.2534193674, 1.72503263342, ...   \n",
       "15  [193.249974337, 2.05975537386, 1.53170725112, ...   \n",
       "16  [192.995813015, 2.06923226137, 1.76253854455, ...   \n",
       "17  [193.26007199, 2.01563568305, 1.5681243344, 2....   \n",
       "18  [193.103288304, 2.09435883478, 1.67726162075, ...   \n",
       "19  [193.199194173, 2.02172416031, 1.64423192428, ...   \n",
       "\n",
       "                                          probability  prediction  \n",
       "0   [0.592343323862, 0.0322352722447, 0.2583699221...         0.0  \n",
       "1   [0.570752032495, 0.00289383008545, 0.191384463...         0.0  \n",
       "2   [0.821659793012, 0.00961220982066, 0.158021832...         0.0  \n",
       "3   [0.965749395909, 0.0103506701819, 0.0077388582...         0.0  \n",
       "4   [0.966728006251, 0.00995940202847, 0.007685243...         0.0  \n",
       "5   [0.966292837878, 0.0102232454375, 0.0077330240...         0.0  \n",
       "6   [0.965055674577, 0.0105418078739, 0.0088412465...         0.0  \n",
       "7   [0.9663408535, 0.00998086566848, 0.00761178625...         0.0  \n",
       "8   [0.966775462741, 0.0101116834496, 0.0075350149...         0.0  \n",
       "9   [0.9658229412, 0.0103154290299, 0.007688001586...         0.0  \n",
       "10  [0.966466795288, 0.0102474087912, 0.0075332617...         0.0  \n",
       "11  [0.966890552872, 0.0099996469657, 0.0074963397...         0.0  \n",
       "12  [0.966602592513, 0.0102332567883, 0.0075059440...         0.0  \n",
       "13  [0.965204778868, 0.0110923886263, 0.0078843401...         0.0  \n",
       "14  [0.837376087961, 0.136267096837, 0.00862516316...         0.0  \n",
       "15  [0.966249871683, 0.0102987768693, 0.0076585362...         0.0  \n",
       "16  [0.964979065075, 0.0103461613069, 0.0088126927...         0.0  \n",
       "17  [0.966300359952, 0.0100781784152, 0.0078406216...         0.0  \n",
       "18  [0.965516441521, 0.0104717941739, 0.0083863081...         0.0  \n",
       "19  [0.965995970863, 0.0101086208016, 0.0082211596...         0.0  \n",
       "</div>"
      ]
     },
     "metadata": {},
     "output_type": "display_data"
    }
   ],
   "source": [
    "predictions.toPandas().head(20)"
   ]
  },
  {
   "cell_type": "code",
   "execution_count": 9,
   "metadata": {},
   "outputs": [
    {
     "data": {
      "text/html": [
       "<style scoped>\n",
       "  .ansiout {\n",
       "    display: block;\n",
       "    unicode-bidi: embed;\n",
       "    white-space: pre-wrap;\n",
       "    word-wrap: break-word;\n",
       "    word-break: break-all;\n",
       "    font-family: \"Source Code Pro\", \"Menlo\", monospace;;\n",
       "    font-size: 13px;\n",
       "    color: #555;\n",
       "    margin-left: 4px;\n",
       "    line-height: 19px;\n",
       "  }\n",
       "</style>\n",
       "<div class=\"ansiout\">DataFrame[summary: string, machineID: string, label_e: string, indexedLabel: string, prediction: string]\n",
       "</div>"
      ]
     },
     "metadata": {},
     "output_type": "display_data"
    }
   ],
   "source": [
    "print(predictions.summary())"
   ]
  },
  {
   "cell_type": "code",
   "execution_count": 10,
   "metadata": {},
   "outputs": [
    {
     "data": {
      "text/html": [
       "<style scoped>\n",
       "  .ansiout {\n",
       "    display: block;\n",
       "    unicode-bidi: embed;\n",
       "    white-space: pre-wrap;\n",
       "    word-wrap: break-word;\n",
       "    word-break: break-all;\n",
       "    font-family: \"Source Code Pro\", \"Menlo\", monospace;;\n",
       "    font-size: 13px;\n",
       "    color: #555;\n",
       "    margin-left: 4px;\n",
       "    line-height: 19px;\n",
       "  }\n",
       "</style>\n",
       "<div class=\"ansiout\">== Physical Plan ==\n",
       "*(1) FileScan parquet default.results_output[machineID#88592L,dt_truncated#88593,label_e#88594,features#88595,indexedLabel#88596,indexedFeatures#88597,rawPrediction#88598,probability#88599,prediction#88600] Batched: true, DataFilters: [], Format: Parquet, Location: InMemoryFileIndex[dbfs:/user/hive/warehouse/results_output], PartitionFilters: [], PushedFilters: [], ReadSchema: struct&lt;machineID:bigint,dt_truncated:timestamp,label_e:double,features:struct&lt;type:tinyint,size:i...\n",
       "</div>"
      ]
     },
     "metadata": {},
     "output_type": "display_data"
    }
   ],
   "source": [
    "predictions.explain()"
   ]
  },
  {
   "cell_type": "markdown",
   "metadata": {},
   "source": [
    "# Conclusion\n",
    "\n",
    "This concludes this scenario. You can modify these notebooks to customize your own use case solution."
   ]
  }
 ],
 "metadata": {
  "kernelspec": {
   "display_name": "PredictiveMaintenance dlvmjme",
   "language": "python",
   "name": "predictivemaintenance_dlvmjme"
  },
  "language_info": {
   "codemirror_mode": {
    "name": "ipython",
    "version": 3
   },
   "file_extension": ".py",
   "mimetype": "text/x-python",
   "name": "python",
   "nbconvert_exporter": "python",
   "pygments_lexer": "ipython3",
   "version": "3.5.2"
  },
  "name": "4_model_scoring",
  "notebookId": 1086115452232427
 },
 "nbformat": 4,
 "nbformat_minor": 1
}
