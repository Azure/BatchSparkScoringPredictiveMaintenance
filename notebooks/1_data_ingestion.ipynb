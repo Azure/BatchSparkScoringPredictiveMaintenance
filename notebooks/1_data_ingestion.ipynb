{
    "cells": [{
        "cell_type": "markdown",
        "source": ["# Step 1: Data ingestion\n\nThis notebook executes the first step of a data science process, to download the raw data sets and store them as Spark Dataframes accessible to your Azure Databricks instance. You can `Run All` cells to generate the datasets required toexecute the remaining notebooks in this scenario. \n\nTo examine the SPARK data frames constructed, an optional `1a_raw_data_exploring` notebook has been included in the repostiory and copied to your Azure Databricks Workspace. You must run this data ingestion notebook before running the exploration notebook cells. The exploration notebook details the simulated data sets we used for this predictive maintenance solution example.\n\n## Data sources\n\nThe common data elements for predictive maintenance problems can be summarized as follows:\n\n* Machine features: The features specific to each individual machine, e.g. engine size, make, model, location, installation date.\n* Telemetry data: The operating condition data collected from sensors, e.g. temperature, vibration, operating speeds, pressures.\n* Maintenance history: The repair history of a machine, e.g. maintenance activities or component replacements, this can also include error code or runtime message logs.\n* Failure history: The failure history of a machine or component of interest.\n\nIt is possible that failure history is contained within maintenance history, either as in the form of special error codes or order dates for spare parts. In those cases, failures can be extracted from the maintenance data. Additionally, different business domains may have a variety of other data sources that influence failure patterns which are not listed here exhaustively. These should be identified by consulting the domain experts when building predictive models.\n\nSome examples of above data elements from use cases are:\n    \n**Machine conditions and usage:** Flight routes and times, sensor data collected from aircraft engines, sensor readings from ATM transactions, train events data, sensor readings from wind turbines, elevators and connected cars.\n    \n**Machine features:** Circuit breaker technical specifications such as voltage levels, geolocation or car features such as make, model, engine size, tire types, production facility etc.\n\n**Failure history:** fight delay dates, aircraft component failure dates and types, ATM cash withdrawal transaction failures, train/elevator door failures, brake disk replacement order dates, wind turbine failure dates and circuit breaker command failures.\n\n**Maintenance history:** Flight error logs, ATM transaction error logs, train maintenance records including maintenance type, short description etc. and circuit breaker maintenance records.\n\nGiven the above data sources, the two main data types we observe in predictive maintenance domain are temporal data and static data. Failure history, machine conditions, repair history, usage history are time series indicated by the timestamp of data collection. Machine and operator specific features, are more static, since they usually describe the technical specifications of machines or operator’s properties.\n\nFor this scenario, we use a relatively large-scale data to walk you through the main steps from data ingestion (this Jupyter notebook), feature engineering, model building, and model operationalization and deployment. The code for the entire process is written in PySpark and implemented using Jupyter notebooks within Azure Databricks. We use Azure Databricks scheduled notebooks to simulate creating failure predictions in batch scenarios. \n\n# Step 1: Data Ingestion\n\nThis data aquisiton notebook will download the simulated predictive maintenance data sets from our GitHub data store. We do some preliminary data cleaning and store the results as a Spark data frame on the Azure Cluster for use in the remaining notebook steps of this analysis.\n\n**Note:** This notebook will take about 8-10 minutes to execute all cells, depending on the compute configuration you have setup. Most of this time is spent handling the _telemetry_ data set, which contains about 8.7 million records."],
        "metadata": {}
    }, {
        "cell_type": "code",
        "source": ["## Setup our environment by importing required libraries\n\n# Github has been having some timeout issues. This should fix the problem for this dataset.\nimport socket\nsocket.setdefaulttimeout(90)\n\nimport glob\nimport os\n# Read csv file from URL directly\nimport pandas as pd\n\nimport urllib\nfrom datetime import datetime\n# Setup the pyspark environment\nfrom pyspark.sql import SparkSession\n\nspark = SparkSession.builder.getOrCreate()"],
        "metadata": {},
        "outputs": [{
            "metadata": {},
            "output_type": "display_data",
            "data": {
                "text/html": ["<style scoped>\n  .ansiout {\n    display: block;\n    unicode-bidi: embed;\n    white-space: pre-wrap;\n    word-wrap: break-word;\n    word-break: break-all;\n    font-family: \"Source Code Pro\", \"Menlo\", monospace;;\n    font-size: 13px;\n    color: #555;\n    margin-left: 4px;\n    line-height: 19px;\n  }\n</style>\n<div class=\"ansiout\"></div>"]
            }
        }],
        "execution_count": 2
    }, {
        "cell_type": "markdown",
        "source": ["## Download simulated data sets\nWe will be reusing the raw simulated data files from another tutorial. The notebook automatically downloads these files stored at [Microsoft/SQL-Server-R-Services-Samples GitHub site](https://github.com/Microsoft/SQL-Server-R-Services-Samples/tree/master/PredictiveMaintanenceModelingGuide/Data).\n\nThe five data files are:\n\n * machines.csv\n * maint.csv\n * errors.csv\n * telemetry.csv\n * failures.csv\n\nThere are 1000 machines of four different models. Each machine contains four components of interest, and four sensors measuring voltage, pressure, vibration and rotation. A controller monitors the system and raises alerts for five different error conditions. Maintenance logs indicate when something is done to the machine which does not include a component replacement. A failure is defined by the replacement of a component. \n\n![Machine Schemaic](../images/machine.png)\n \nThis notebook does some preliminary data cleanup, creates summary graphics for each data set to verify the data downloaded correctly, and stores the resulting data sets in the Azure blob container created in the previous section."],
        "metadata": {}
    }, {
        "cell_type": "code",
        "source": ["# The raw data is stored on GitHub here:\nbasedataurl = \"http://media.githubusercontent.com/media/Microsoft/SQL-Server-R-Services-Samples/master/PredictiveMaintanenceModelingGuide/Data/\"\n\n# We will store each of these data sets in blob storage in an \n# Azure Storage Container on your Azure subscription.\n# See https://github.com/Azure/ViennaDocs/blob/master/Documentation/UsingBlobForStorage.md\n# for details.\n\n# These file names detail which blob each files is stored under. \nMACH_DATA = 'machines_data'\nMAINT_DATA = 'maint_data'\nERROR_DATA = 'errors_data'\nTELEMETRY_DATA = 'telemetry_data'\nFAILURE_DATA = 'failure_data'"],
        "metadata": {},
        "outputs": [{
            "metadata": {},
            "output_type": "display_data",
            "data": {
                "text/html": ["<style scoped>\n  .ansiout {\n    display: block;\n    unicode-bidi: embed;\n    white-space: pre-wrap;\n    word-wrap: break-word;\n    word-break: break-all;\n    font-family: \"Source Code Pro\", \"Menlo\", monospace;;\n    font-size: 13px;\n    color: #555;\n    margin-left: 4px;\n    line-height: 19px;\n  }\n</style>\n<div class=\"ansiout\"></div>"]
            }
        }],
        "execution_count": 4
    }, {
        "cell_type": "markdown",
        "source": ["### Machines data set\n\nThis simulation tracks a simulated set of 1000 machines over the course of a single year (2015). \n\nThis data set includes information about each machine: Machine ID, model type and age (years in service)."],
        "metadata": {}
    }, {
        "cell_type": "code",
        "source": ["# load raw data from the GitHub URL\ndatafile = \"machines.csv\"\n\n# Download the file once, and only once.\nif not os.path.isfile(datafile):\n    urllib.request.urlretrieve(basedataurl+datafile, datafile)\n    \n# Read into pandas\nmachines = pd.read_csv(datafile, encoding='utf-8')\n\n# The data was read in using a Pandas data frame. We'll convert \n# it to pyspark to ensure it is in a Spark usable form for later \n# manipulations.\nmach_spark = spark.createDataFrame(machines, \n                                   verifySchema=False)\n\n# Write the Machine data set to intermediate storage\nmach_spark.write.mode('overwrite').saveAsTable(MACH_DATA)"],
        "metadata": {},
        "outputs": [{
            "metadata": {},
            "output_type": "display_data",
            "data": {
                "text/html": ["<style scoped>\n  .ansiout {\n    display: block;\n    unicode-bidi: embed;\n    white-space: pre-wrap;\n    word-wrap: break-word;\n    word-break: break-all;\n    font-family: \"Source Code Pro\", \"Menlo\", monospace;;\n    font-size: 13px;\n    color: #555;\n    margin-left: 4px;\n    line-height: 19px;\n  }\n</style>\n<div class=\"ansiout\"></div>"]
            }
        }],
        "execution_count": 6
    }, {
        "cell_type": "markdown",
        "source": ["### Errors  data set\n\nThe error log contains non-breaking errors recorded while the machine is still operational. These errors are not considered failures, though they may be predictive of a future failure event. The error datetime field is rounded to the closest hour since the telemetry data (loaded later) is collected on an hourly rate."],
        "metadata": {}
    }, {
        "cell_type": "code",
        "source": ["# load raw data from the GitHub URL\ndatafile = \"errors.csv\"\n\n# Download the file once, and only once.\nif not os.path.isfile(datafile):\n    urllib.request.urlretrieve(basedataurl+datafile, datafile)\n    \n# Read into pandas\nerrors = pd.read_csv(datafile, encoding='utf-8')\n\n# The data was read in using a Pandas data frame. We'll convert \n# it to pyspark to ensure it is in a Spark usable form for later \n# manipulations.\nerror_spark = spark.createDataFrame(errors, \n                               verifySchema=False)\n\n# Write the Errors data set to intermediate storage\nerror_spark.write.mode('overwrite').saveAsTable(ERROR_DATA)"],
        "metadata": {},
        "outputs": [{
            "metadata": {},
            "output_type": "display_data",
            "data": {
                "text/html": ["<style scoped>\n  .ansiout {\n    display: block;\n    unicode-bidi: embed;\n    white-space: pre-wrap;\n    word-wrap: break-word;\n    word-break: break-all;\n    font-family: \"Source Code Pro\", \"Menlo\", monospace;;\n    font-size: 13px;\n    color: #555;\n    margin-left: 4px;\n    line-height: 19px;\n  }\n</style>\n<div class=\"ansiout\"></div>"]
            }
        }],
        "execution_count": 8
    }, {
        "cell_type": "markdown",
        "source": ["### Maintenance data set\n\nThe maintenance log contains both scheduled and unscheduled maintenance records. Scheduled maintenance corresponds with  regular inspection of components, unscheduled maintenance may arise from mechanical failure or other performance degradations. A failure record is generated for component replacement in the case  of either maintenance events. Because maintenance events can also be used to infer component life, the maintenance data has been collected over two years (2014, 2015) instead of only over the year of interest (2015)."],
        "metadata": {}
    }, {
        "cell_type": "code",
        "source": ["# load raw data from the GitHub URL\ndatafile = \"maint.csv\"\n\n# Download the file once, and only once.\nif not os.path.isfile(datafile):\n    urllib.request.urlretrieve(basedataurl+datafile, datafile)\n    \n# Read into pandas\nmaint = pd.read_csv(datafile, encoding='utf-8')\n\n# The data was read in using a Pandas data frame. We'll convert \n# it to pyspark to ensure it is in a Spark usable form for later \n# manipulations.\nmaint_spark = spark.createDataFrame(maint, \n                              verifySchema=False)\n\n# Write the Maintenance data set to intermediate storage\nmaint_spark.write.mode('overwrite').saveAsTable(MAINT_DATA)"],
        "metadata": {},
        "outputs": [{
            "metadata": {},
            "output_type": "display_data",
            "data": {
                "text/html": ["<style scoped>\n  .ansiout {\n    display: block;\n    unicode-bidi: embed;\n    white-space: pre-wrap;\n    word-wrap: break-word;\n    word-break: break-all;\n    font-family: \"Source Code Pro\", \"Menlo\", monospace;;\n    font-size: 13px;\n    color: #555;\n    margin-left: 4px;\n    line-height: 19px;\n  }\n</style>\n<div class=\"ansiout\"></div>"]
            }
        }],
        "execution_count": 10
    }, {
        "cell_type": "markdown",
        "source": ["### Telemetry data set\n\nThe telemetry time-series data consists of voltage, rotation, pressure, and vibration sensor measurements collected from each  machines in real time. The data is averaged over an hour and stored in the telemetry logs."],
        "metadata": {}
    }, {
        "cell_type": "code",
        "source": ["# load raw data from the GitHub URL\ndatafile = \"telemetry.csv\"\n\n# Download the file once, and only once.\nif not os.path.isfile(datafile):\n    urllib.request.urlretrieve(basedataurl+datafile, datafile)\n    \n# Read into pandas\ntelemetry = pd.read_csv(datafile, encoding='utf-8')\n\n# handle missing values\n# define groups of features \nfeatures_datetime = ['datetime']\nfeatures_categorical = ['machineID']\nfeatures_numeric = list(set(telemetry.columns) - set(features_datetime) - set(features_categorical))\n\n# Replace numeric NA with 0\ntelemetry[features_numeric] = telemetry[features_numeric].fillna(0)\n\n# Replace categorical NA with 'Unknown'\ntelemetry[features_categorical]  = telemetry[features_categorical].fillna(\"Unknown\")\n\n# The data was read in using a Pandas data frame. We'll convert \n# it to pyspark to ensure it is in a Spark usable form for later \n# manipulations.\n# This line takes about 9.5 minutes to run.\ntelemetry_spark = spark.createDataFrame(telemetry, verifySchema=False)\n\n# Write the telemetry data set to intermediate storage\ntelemetry_spark.write.mode('overwrite').saveAsTable(TELEMETRY_DATA)"],
        "metadata": {},
        "outputs": [{
            "metadata": {},
            "output_type": "display_data",
            "data": {
                "text/html": ["<style scoped>\n  .ansiout {\n    display: block;\n    unicode-bidi: embed;\n    white-space: pre-wrap;\n    word-wrap: break-word;\n    word-break: break-all;\n    font-family: \"Source Code Pro\", \"Menlo\", monospace;;\n    font-size: 13px;\n    color: #555;\n    margin-left: 4px;\n    line-height: 19px;\n  }\n</style>\n<div class=\"ansiout\"></div>"]
            }
        }],
        "execution_count": 12
    }, {
        "cell_type": "markdown",
        "source": ["### Failures data set\n\nFailures correspond to component replacements within the maintenance log. Each record contains the Machine ID, component type, and replacement datetime. These records will be used to create the machine learning labels we will be trying to predict."],
        "metadata": {}
    }, {
        "cell_type": "code",
        "source": ["# load raw data from the GitHub URL\ndatafile = \"failures.csv\"\n\n# Download the file once, and only once.\nif not os.path.isfile(datafile):\n    urllib.request.urlretrieve(basedataurl+datafile, datafile)\n    \n# Read into pandas\nfailures = pd.read_csv(datafile, encoding='utf-8')\n\n# The data was read in using a Pandas data frame. We'll convert \n# it to pyspark to ensure it is in a Spark usable form for later \n# manipulations.\nfailures_spark = spark.createDataFrame(failures, \n                                       verifySchema=False)\n\n# Write the failures data set to intermediate storage\nfailures_spark.write.mode('overwrite').saveAsTable(FAILURE_DATA)"],
        "metadata": {},
        "outputs": [{
            "metadata": {},
            "output_type": "display_data",
            "data": {
                "text/html": ["<style scoped>\n  .ansiout {\n    display: block;\n    unicode-bidi: embed;\n    white-space: pre-wrap;\n    word-wrap: break-word;\n    word-break: break-all;\n    font-family: \"Source Code Pro\", \"Menlo\", monospace;;\n    font-size: 13px;\n    color: #555;\n    margin-left: 4px;\n    line-height: 19px;\n  }\n</style>\n<div class=\"ansiout\"></div>"]
            }
        }],
        "execution_count": 14
    }, {
        "cell_type": "markdown",
        "source": ["# Conclusion\n\n\nWe have now stored the Raw data required for this Predictive Maintenance scenario as Spark data frames in the Azure Databricks instance. You can examine them in the Data panel accessible on the left. You should see the following five data sources:\n\n 1. error_files\n 1. machine_files\n 1. maint_files\n 1. telemetry_files\n 1. failure_files\n\nThe `.\\notebooks\\1a_raw data exploration` notebooks does a preliminary data exploration on these data sets to help understand what we are working on. These data sets will be used in the next step `.\\notebooks\\2_feature_engineering` notebook to generate the analysis data sets containing model features for our predictive maintenance machine learning model."],
        "metadata": {}
    }],
    "metadata": {
        "kernelspec": {
            "display_name": "pm2 dlvm",
            "language": "python",
            "name": "pm2_dlvm"
        },
        "language_info": {
            "mimetype": "text/x-python",
            "name": "python",
            "pygments_lexer": "ipython3",
            "codemirror_mode": {
                "name": "ipython",
                "version": 3
            },
            "version": "3.5.2",
            "nbconvert_exporter": "python",
            "file_extension": ".py"
        },
        "name": "1_data_ingestion",
        "notebookId": 1086115452232294
    },
    "nbformat": 4,
    "nbformat_minor": 0
}
