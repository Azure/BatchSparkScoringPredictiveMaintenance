{
 "cells": [
  {
   "cell_type": "markdown",
   "metadata": {},
   "source": [
    "# Step 1: Data ingestion\n",
    "\n",
    "This notebook executes the first step of a data science process, to download the raw data sets and store them as Spark Dataframes accessible to your Azure Databricks instance. You can `Run All` cells to generate the datasets required toexecute the remaining notebooks in this scenario. \n",
    "\n",
    "To examine the SPARK data frames constructed, an optional `1a_raw_data_exploring` notebook has been included in the repository and copied to your Azure Databricks Workspace. You must run this data ingestion notebook before running the exploration notebook cells. The exploration notebook details the simulated data sets we used for this predictive maintenance solution example.\n",
    "\n",
    "## Data sources\n",
    "\n",
    "The common data elements for predictive maintenance problems can be summarized as follows:\n",
    "\n",
    "* Machine features: The features specific to each individual machine, e.g. engine size, make, model, location, installation date.\n",
    "* Telemetry data: The operating condition data collected from sensors, e.g. temperature, vibration, operating speeds, pressures.\n",
    "* Maintenance history: The repair history of a machine, e.g. maintenance activities or component replacements, this can also include error code or runtime message logs.\n",
    "* Failure history: The failure history of a machine or component of interest.\n",
    "\n",
    "It is possible that failure history is contained within maintenance history, either as in the form of special error codes or order dates for spare parts. In those cases, failures can be extracted from the maintenance data. Additionally, different business domains may have a variety of other data sources that influence failure patterns which are not listed here exhaustively. These should be identified by consulting the domain experts when building predictive models.\n",
    "\n",
    "Some examples of above data elements from use cases are:\n",
    "    \n",
    "**Machine conditions and usage:** Flight routes and times, sensor data collected from aircraft engines, sensor readings from ATM transactions, train events data, sensor readings from wind turbines, elevators and connected cars.\n",
    "    \n",
    "**Machine features:** Circuit breaker technical specifications such as voltage levels, geolocation or car features such as make, model, engine size, tire types, production facility etc.\n",
    "\n",
    "**Failure history:** fight delay dates, aircraft component failure dates and types, ATM cash withdrawal transaction failures, train/elevator door failures, brake disk replacement order dates, wind turbine failure dates and circuit breaker command failures.\n",
    "\n",
    "**Maintenance history:** Flight error logs, ATM transaction error logs, train maintenance records including maintenance type, short description etc. and circuit breaker maintenance records.\n",
    "\n",
    "Given the above data sources, the two main data types we observe in predictive maintenance domain are temporal data and static data. Failure history, machine conditions, repair history, usage history are time series indicated by the timestamp of data collection. Machine and operator specific features, are more static, since they usually describe the technical specifications of machines or operator’s properties.\n",
    "\n",
    "For this scenario, we use a relatively large-scale data to walk you through the main steps from data ingestion (this Jupyter notebook), feature engineering, model building, and model operationalization and deployment. The code for the entire process is written in PySpark and implemented using Jupyter notebooks within Azure Databricks. We use Azure Databricks scheduled notebooks to simulate creating failure predictions in batch scenarios. \n",
    "\n",
    "# Step 1: Data Ingestion\n",
    "\n",
    "This data acquisiton notebook will download the simulated predictive maintenance data sets from our GitHub data store. We do some preliminary data cleaning and store the results as a Spark data frame on the Azure Cluster for use in the remaining notebook steps of this analysis.\n",
    "\n",
    "**Note:** This notebook will take about 8-10 minutes to execute all cells, depending on the compute configuration you have setup. Most of this time is spent handling the _telemetry_ data set, which contains about 8.7 million records."
   ]
  },
  {
   "cell_type": "code",
   "execution_count": 2,
   "metadata": {},
   "outputs": [
    {
     "data": {
      "text/html": [
       "<style scoped>\n",
       "  .ansiout {\n",
       "    display: block;\n",
       "    unicode-bidi: embed;\n",
       "    white-space: pre-wrap;\n",
       "    word-wrap: break-word;\n",
       "    word-break: break-all;\n",
       "    font-family: \"Source Code Pro\", \"Menlo\", monospace;;\n",
       "    font-size: 13px;\n",
       "    color: #555;\n",
       "    margin-left: 4px;\n",
       "    line-height: 19px;\n",
       "  }\n",
       "</style>\n",
       "<div class=\"ansiout\"></div>"
      ]
     },
     "metadata": {},
     "output_type": "display_data"
    }
   ],
   "source": [
    "## Setup our environment by importing required libraries\n",
    "\n",
    "# Github has been having some timeout issues. This should fix the problem for this dataset.\n",
    "import socket\n",
    "socket.setdefaulttimeout(90)\n",
    "\n",
    "import glob\n",
    "import os\n",
    "# Read csv file from URL directly\n",
    "import pandas as pd\n",
    "\n",
    "import urllib\n",
    "from datetime import datetime\n",
    "# Setup the pyspark environment\n",
    "from pyspark.sql import SparkSession\n",
    "\n",
    "spark = SparkSession.builder.getOrCreate()"
   ]
  },
  {
   "cell_type": "markdown",
   "metadata": {},
   "source": [
    "## Download simulated data sets\n",
    "We will be reusing the raw simulated data files from another tutorial. The notebook automatically downloads these files stored at [Microsoft/SQL-Server-R-Services-Samples GitHub site](https://github.com/Microsoft/SQL-Server-R-Services-Samples/tree/master/PredictiveMaintanenceModelingGuide/Data).\n",
    "\n",
    "The five data files are:\n",
    "\n",
    " * machines.csv\n",
    " * maint.csv\n",
    " * errors.csv\n",
    " * telemetry.csv\n",
    " * failures.csv\n",
    "\n",
    "There are 1000 machines of four different models. Each machine contains four components of interest, and four sensors measuring voltage, pressure, vibration and rotation. A controller monitors the system and raises alerts for five different error conditions. Maintenance logs indicate when something is done to the machine which does not include a component replacement. A failure is defined by the replacement of a component. \n",
    "\n",
    "![Machine Schemaic](https://raw.githubusercontent.com/Azure/BatchSparkScoringPredictiveMaintenance/master/images/machine.png)\n",
    " \n",
    "This notebook does some preliminary data cleanup, creates summary graphics for each data set to verify the data downloaded correctly, and stores the resulting data sets in the Azure blob container created in the previous section."
   ]
  },
  {
   "cell_type": "code",
   "execution_count": 4,
   "metadata": {},
   "outputs": [
    {
     "data": {
      "text/html": [
       "<style scoped>\n",
       "  .ansiout {\n",
       "    display: block;\n",
       "    unicode-bidi: embed;\n",
       "    white-space: pre-wrap;\n",
       "    word-wrap: break-word;\n",
       "    word-break: break-all;\n",
       "    font-family: \"Source Code Pro\", \"Menlo\", monospace;;\n",
       "    font-size: 13px;\n",
       "    color: #555;\n",
       "    margin-left: 4px;\n",
       "    line-height: 19px;\n",
       "  }\n",
       "</style>\n",
       "<div class=\"ansiout\"></div>"
      ]
     },
     "metadata": {},
     "output_type": "display_data"
    }
   ],
   "source": [
    "# The raw data is stored on GitHub here:\n",
    "# https://github.com/Microsoft/SQL-Server-R-Services-Samples/tree/master/PredictiveMaintenanceModelingGuide/Data\n",
    "# We access it through this URL:\n",
    "basedataurl = \"https://media.githubusercontent.com/media/Microsoft/SQL-Server-R-Services-Samples/master/PredictiveMaintenanceModelingGuide/Data/\"\n",
    "\n",
    "# We will store each of these data sets in DBFS\n",
    "\n",
    "# These file names detail which blob each files is stored under. \n",
    "MACH_DATA = 'machines_data'\n",
    "MAINT_DATA = 'maint_data'\n",
    "ERROR_DATA = 'errors_data'\n",
    "TELEMETRY_DATA = 'telemetry_data'\n",
    "FAILURE_DATA = 'failure_data'"
   ]
  },
  {
   "cell_type": "markdown",
   "metadata": {},
   "source": [
    "### Machines data set\n",
    "\n",
    "This simulation tracks a simulated set of 1000 machines over the course of a single year (2015). \n",
    "\n",
    "This data set includes information about each machine: Machine ID, model type and age (years in service)."
   ]
  },
  {
   "cell_type": "code",
   "execution_count": 6,
   "metadata": {},
   "outputs": [
    {
     "data": {
      "text/html": [
       "<style scoped>\n",
       "  .ansiout {\n",
       "    display: block;\n",
       "    unicode-bidi: embed;\n",
       "    white-space: pre-wrap;\n",
       "    word-wrap: break-word;\n",
       "    word-break: break-all;\n",
       "    font-family: \"Source Code Pro\", \"Menlo\", monospace;;\n",
       "    font-size: 13px;\n",
       "    color: #555;\n",
       "    margin-left: 4px;\n",
       "    line-height: 19px;\n",
       "  }\n",
       "</style>\n",
       "<div class=\"ansiout\"></div>"
      ]
     },
     "metadata": {},
     "output_type": "display_data"
    }
   ],
   "source": [
    "# load raw data from the GitHub URL\n",
    "datafile = \"machines.csv\"\n",
    "\n",
    "# Download the file once, and only once.\n",
    "if not os.path.isfile(datafile):\n",
    "    urllib.request.urlretrieve(basedataurl+datafile, datafile)\n",
    "    \n",
    "# Read into pandas\n",
    "machines = pd.read_csv(datafile)\n",
    "\n",
    "# The data was read in using a Pandas data frame. We'll convert \n",
    "# it to pyspark to ensure it is in a Spark usable form for later \n",
    "# manipulations.\n",
    "mach_spark = spark.createDataFrame(machines, \n",
    "                                   verifySchema=False)\n",
    "\n",
    "# Write the Machine data set to intermediate storage\n",
    "mach_spark.write.mode('overwrite').saveAsTable(MACH_DATA)"
   ]
  },
  {
   "cell_type": "markdown",
   "metadata": {},
   "source": [
    "### Errors  data set\n",
    "\n",
    "The error log contains non-breaking errors recorded while the machine is still operational. These errors are not considered failures, though they may be predictive of a future failure event. The error datetime field is rounded to the closest hour since the telemetry data (loaded later) is collected on an hourly rate."
   ]
  },
  {
   "cell_type": "code",
   "execution_count": 8,
   "metadata": {},
   "outputs": [
    {
     "data": {
      "text/html": [
       "<style scoped>\n",
       "  .ansiout {\n",
       "    display: block;\n",
       "    unicode-bidi: embed;\n",
       "    white-space: pre-wrap;\n",
       "    word-wrap: break-word;\n",
       "    word-break: break-all;\n",
       "    font-family: \"Source Code Pro\", \"Menlo\", monospace;;\n",
       "    font-size: 13px;\n",
       "    color: #555;\n",
       "    margin-left: 4px;\n",
       "    line-height: 19px;\n",
       "  }\n",
       "</style>\n",
       "<div class=\"ansiout\"></div>"
      ]
     },
     "metadata": {},
     "output_type": "display_data"
    }
   ],
   "source": [
    "# load raw data from the GitHub URL\n",
    "datafile = \"errors.csv\"\n",
    "\n",
    "# Download the file once, and only once.\n",
    "if not os.path.isfile(datafile):\n",
    "    urllib.request.urlretrieve(basedataurl+datafile, datafile)\n",
    "    \n",
    "# Read into pandas\n",
    "errors = pd.read_csv(datafile, encoding='utf-8')\n",
    "\n",
    "# The data was read in using a Pandas data frame. We'll convert \n",
    "# it to pyspark to ensure it is in a Spark usable form for later \n",
    "# manipulations.\n",
    "error_spark = spark.createDataFrame(errors, \n",
    "                               verifySchema=False)\n",
    "\n",
    "# Write the Errors data set to intermediate storage\n",
    "error_spark.write.mode('overwrite').saveAsTable(ERROR_DATA)"
   ]
  },
  {
   "cell_type": "markdown",
   "metadata": {},
   "source": [
    "### Maintenance data set\n",
    "\n",
    "The maintenance log contains both scheduled and unscheduled maintenance records. Scheduled maintenance corresponds with  regular inspection of components, unscheduled maintenance may arise from mechanical failure or other performance degradations. A failure record is generated for component replacement in the case  of either maintenance events. Because maintenance events can also be used to infer component life, the maintenance data has been collected over two years (2014, 2015) instead of only over the year of interest (2015)."
   ]
  },
  {
   "cell_type": "code",
   "execution_count": 10,
   "metadata": {},
   "outputs": [
    {
     "data": {
      "text/html": [
       "<style scoped>\n",
       "  .ansiout {\n",
       "    display: block;\n",
       "    unicode-bidi: embed;\n",
       "    white-space: pre-wrap;\n",
       "    word-wrap: break-word;\n",
       "    word-break: break-all;\n",
       "    font-family: \"Source Code Pro\", \"Menlo\", monospace;;\n",
       "    font-size: 13px;\n",
       "    color: #555;\n",
       "    margin-left: 4px;\n",
       "    line-height: 19px;\n",
       "  }\n",
       "</style>\n",
       "<div class=\"ansiout\"></div>"
      ]
     },
     "metadata": {},
     "output_type": "display_data"
    }
   ],
   "source": [
    "# load raw data from the GitHub URL\n",
    "datafile = \"maint.csv\"\n",
    "\n",
    "# Download the file once, and only once.\n",
    "if not os.path.isfile(datafile):\n",
    "    urllib.request.urlretrieve(basedataurl+datafile, datafile)\n",
    "    \n",
    "# Read into pandas\n",
    "maint = pd.read_csv(datafile, encoding='utf-8')\n",
    "\n",
    "# The data was read in using a Pandas data frame. We'll convert \n",
    "# it to pyspark to ensure it is in a Spark usable form for later \n",
    "# manipulations.\n",
    "maint_spark = spark.createDataFrame(maint, \n",
    "                              verifySchema=False)\n",
    "\n",
    "# Write the Maintenance data set to intermediate storage\n",
    "maint_spark.write.mode('overwrite').saveAsTable(MAINT_DATA)"
   ]
  },
  {
   "cell_type": "markdown",
   "metadata": {},
   "source": [
    "### Telemetry data set\n",
    "\n",
    "The telemetry time-series data consists of voltage, rotation, pressure, and vibration sensor measurements collected from each  machines in real time. The data is averaged over an hour and stored in the telemetry logs."
   ]
  },
  {
   "cell_type": "code",
   "execution_count": 12,
   "metadata": {},
   "outputs": [
    {
     "data": {
      "text/html": [
       "<style scoped>\n",
       "  .ansiout {\n",
       "    display: block;\n",
       "    unicode-bidi: embed;\n",
       "    white-space: pre-wrap;\n",
       "    word-wrap: break-word;\n",
       "    word-break: break-all;\n",
       "    font-family: \"Source Code Pro\", \"Menlo\", monospace;;\n",
       "    font-size: 13px;\n",
       "    color: #555;\n",
       "    margin-left: 4px;\n",
       "    line-height: 19px;\n",
       "  }\n",
       "</style>\n",
       "<div class=\"ansiout\"></div>"
      ]
     },
     "metadata": {},
     "output_type": "display_data"
    }
   ],
   "source": [
    "# load raw data from the GitHub URL\n",
    "datafile = \"telemetry.csv\"\n",
    "\n",
    "# Download the file once, and only once.\n",
    "if not os.path.isfile(datafile):\n",
    "    urllib.request.urlretrieve(basedataurl+datafile, datafile)\n",
    "    \n",
    "# Read into pandas\n",
    "telemetry = pd.read_csv(datafile, encoding='utf-8')\n",
    "\n",
    "# handle missing values\n",
    "# define groups of features \n",
    "features_datetime = ['datetime']\n",
    "features_categorical = ['machineID']\n",
    "features_numeric = list(set(telemetry.columns) - set(features_datetime) - set(features_categorical))\n",
    "\n",
    "# Replace numeric NA with 0\n",
    "telemetry[features_numeric] = telemetry[features_numeric].fillna(0)\n",
    "\n",
    "# Replace categorical NA with 'Unknown'\n",
    "telemetry[features_categorical]  = telemetry[features_categorical].fillna(\"Unknown\")\n",
    "\n",
    "# The data was read in using a Pandas data frame. We'll convert \n",
    "# it to pyspark to ensure it is in a Spark usable form for later \n",
    "# manipulations.\n",
    "# This line takes about 9.5 minutes to run.\n",
    "telemetry_spark = spark.createDataFrame(telemetry, verifySchema=False)\n",
    "\n",
    "# Write the telemetry data set to intermediate storage\n",
    "telemetry_spark.write.mode('overwrite').saveAsTable(TELEMETRY_DATA)"
   ]
  },
  {
   "cell_type": "markdown",
   "metadata": {},
   "source": [
    "### Failures data set\n",
    "\n",
    "Failures correspond to component replacements within the maintenance log. Each record contains the Machine ID, component type, and replacement datetime. These records will be used to create the machine learning labels we will be trying to predict."
   ]
  },
  {
   "cell_type": "code",
   "execution_count": 14,
   "metadata": {},
   "outputs": [
    {
     "data": {
      "text/html": [
       "<style scoped>\n",
       "  .ansiout {\n",
       "    display: block;\n",
       "    unicode-bidi: embed;\n",
       "    white-space: pre-wrap;\n",
       "    word-wrap: break-word;\n",
       "    word-break: break-all;\n",
       "    font-family: \"Source Code Pro\", \"Menlo\", monospace;;\n",
       "    font-size: 13px;\n",
       "    color: #555;\n",
       "    margin-left: 4px;\n",
       "    line-height: 19px;\n",
       "  }\n",
       "</style>\n",
       "<div class=\"ansiout\"></div>"
      ]
     },
     "metadata": {},
     "output_type": "display_data"
    }
   ],
   "source": [
    "# load raw data from the GitHub URL\n",
    "datafile = \"failures.csv\"\n",
    "\n",
    "# Download the file once, and only once.\n",
    "if not os.path.isfile(datafile):\n",
    "    urllib.request.urlretrieve(basedataurl+datafile, datafile)\n",
    "    \n",
    "# Read into pandas\n",
    "failures = pd.read_csv(datafile, encoding='utf-8')\n",
    "\n",
    "# The data was read in using a Pandas data frame. We'll convert \n",
    "# it to pyspark to ensure it is in a Spark usable form for later \n",
    "# manipulations.\n",
    "failures_spark = spark.createDataFrame(failures, \n",
    "                                       verifySchema=False)\n",
    "\n",
    "# Write the failures data set to intermediate storage\n",
    "failures_spark.write.mode('overwrite').saveAsTable(FAILURE_DATA)"
   ]
  },
  {
   "cell_type": "markdown",
   "metadata": {},
   "source": [
    "# Conclusion\n",
    "\n",
    "\n",
    "We have now stored the Raw data required for this Predictive Maintenance scenario as Spark data frames in the Azure Databricks instance. You can examine them in the Data panel accessible on the left. You should see the following five data sources:\n",
    "\n",
    " 1. error_files\n",
    " 1. machine_files\n",
    " 1. maint_files\n",
    " 1. telemetry_files\n",
    " 1. failure_files\n",
    "\n",
    "The `.\\notebooks\\1a_raw data exploration` notebooks does a preliminary data exploration on these data sets to help understand what we are working on. These data sets will be used in the next step `.\\notebooks\\2_feature_engineering` notebook to generate the analysis data sets containing model features for our predictive maintenance machine learning model."
   ]
  }
 ],
 "metadata": {
  "kernelspec": {
   "display_name": "pm2 dlvm",
   "language": "python",
   "name": "pm2_dlvm"
  },
  "language_info": {
   "codemirror_mode": {
    "name": "ipython",
    "version": 3
   },
   "file_extension": ".py",
   "mimetype": "text/x-python",
   "name": "python",
   "nbconvert_exporter": "python",
   "pygments_lexer": "ipython3",
   "version": "3.5.2"
  },
  "name": "1_data_ingestion",
  "notebookId": 919282656552612
 },
 "nbformat": 4,
 "nbformat_minor": 1
}
